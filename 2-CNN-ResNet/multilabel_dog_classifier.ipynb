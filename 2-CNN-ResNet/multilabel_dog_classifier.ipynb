{
 "cells": [
  {
   "cell_type": "code",
   "execution_count": null,
   "id": "15f540db",
   "metadata": {},
   "outputs": [],
   "source": [
    "# 📚 Multi-label Dog Breed Classifier with ResNet50\n",
    "# By: ChatGPT + 이상현님"
   ]
  },
  {
   "cell_type": "code",
   "execution_count": null,
   "id": "c7abb8e5",
   "metadata": {},
   "outputs": [],
   "source": [
    "# ✅ 1. Import Libraries\n",
    "import os\n",
    "import torch\n",
    "import torch.nn as nn\n",
    "import torch.optim as optim\n",
    "import torchvision.transforms as transforms\n",
    "from torch.utils.data import Dataset, DataLoader\n",
    "from torchvision import models\n",
    "from PIL import Image\n",
    "import pandas as pd\n",
    "import numpy as np\n",
    "import matplotlib.pyplot as plt\n",
    "import torch.nn.functional as F"
   ]
  },
  {
   "cell_type": "code",
   "execution_count": null,
   "id": "a9454e6e",
   "metadata": {},
   "outputs": [],
   "source": [
    "# ✅ 2. Multi-label Dataset Class\n",
    "class MultiLabelDogDataset(Dataset):\n",
    "    def __init__(self, csv_file, root_dir, transform=None):\n",
    "        self.annotations = pd.read_csv(csv_file)\n",
    "        self.root_dir = root_dir\n",
    "        self.transform = transform\n",
    "        self.class_names = list(self.annotations.columns[1:])\n",
    "        self.num_classes = len(self.class_names)"
   ]
  },
  {
   "cell_type": "code",
   "execution_count": null,
   "id": "1121c88d",
   "metadata": {},
   "outputs": [],
   "source": [
    "def __len__(self):\n",
    "        return len(self.annotations)"
   ]
  },
  {
   "cell_type": "code",
   "execution_count": null,
   "id": "58057bd9",
   "metadata": {},
   "outputs": [],
   "source": [
    "def __getitem__(self, idx):\n",
    "        img_path = os.path.join(self.root_dir, self.annotations.iloc[idx, 0])\n",
    "        image = Image.open(img_path).convert(\"RGB\")\n",
    "        labels = torch.tensor(self.annotations.iloc[idx, 1:].values.astype(np.float32))\n",
    "        if self.transform:\n",
    "            image = self.transform(image)\n",
    "        return image, labels"
   ]
  },
  {
   "cell_type": "code",
   "execution_count": null,
   "id": "d6d18749",
   "metadata": {},
   "outputs": [],
   "source": [
    "# ✅ 3. Settings\n",
    "data_dir = \"./dog_training_set\"\n",
    "csv_path = \"./labels.csv\"\n",
    "batch_size = 32\n",
    "num_epochs = 10"
   ]
  },
  {
   "cell_type": "code",
   "execution_count": null,
   "id": "2f81e363",
   "metadata": {},
   "outputs": [],
   "source": [
    "# ✅ 4. Image Transform\n",
    "transform = transforms.Compose([\n",
    "    transforms.Resize((224, 224)),\n",
    "    transforms.ToTensor(),\n",
    "    transforms.Normalize([0.485, 0.456, 0.406],\n",
    "                         [0.229, 0.224, 0.225])\n",
    "])"
   ]
  },
  {
   "cell_type": "code",
   "execution_count": null,
   "id": "6b7c5f3a",
   "metadata": {},
   "outputs": [],
   "source": [
    "# ✅ 5. Dataset & DataLoader\n",
    "train_dataset = MultiLabelDogDataset(csv_file=csv_path, root_dir=data_dir, transform=transform)\n",
    "train_loader = DataLoader(train_dataset, batch_size=batch_size, shuffle=True)\n",
    "class_names = train_dataset.class_names\n",
    "num_classes = train_dataset.num_classes"
   ]
  },
  {
   "cell_type": "code",
   "execution_count": null,
   "id": "a34090e7",
   "metadata": {},
   "outputs": [],
   "source": [
    "# ✅ 6. Model Definition\n",
    "model = models.resnet50(pretrained=True)\n",
    "model.fc = nn.Linear(model.fc.in_features, num_classes)"
   ]
  },
  {
   "cell_type": "code",
   "execution_count": null,
   "id": "ec795d25",
   "metadata": {},
   "outputs": [],
   "source": [
    "device = torch.device(\"cuda\" if torch.cuda.is_available() else \"cpu\")\n",
    "model.to(device)"
   ]
  },
  {
   "cell_type": "code",
   "execution_count": null,
   "id": "2cbade62",
   "metadata": {},
   "outputs": [],
   "source": [
    "# ✅ 7. Loss & Optimizer\n",
    "criterion = nn.BCEWithLogitsLoss()\n",
    "optimizer = optim.Adam(model.parameters(), lr=0.001)"
   ]
  },
  {
   "cell_type": "code",
   "execution_count": null,
   "id": "d65c7eb9",
   "metadata": {},
   "outputs": [],
   "source": [
    "# ✅ 8. Training Loop\n",
    "print(\"🚀 Training Started...\")\n",
    "for epoch in range(num_epochs):\n",
    "    running_loss = 0.0\n",
    "    model.train()\n",
    "    for i, (images, labels) in enumerate(train_loader):\n",
    "        images, labels = images.to(device), labels.to(device)\n",
    "        optimizer.zero_grad()\n",
    "        outputs = model(images)\n",
    "        loss = criterion(outputs, labels)\n",
    "        loss.backward()\n",
    "        optimizer.step()\n",
    "        running_loss += loss.item()\n",
    "        if (i + 1) % 1 == 0:\n",
    "            print(f\"Epoch [{epoch+1}/{num_epochs}], Step [{i+1}/{len(train_loader)}], Loss: {running_loss:.4f}\")\n",
    "            running_loss = 0.0"
   ]
  },
  {
   "cell_type": "code",
   "execution_count": null,
   "id": "68799bf9",
   "metadata": {},
   "outputs": [],
   "source": [
    "# ✅ 9. Save Model\n",
    "model_path = \"./resnet50_multilabel.pth\"\n",
    "torch.save(model.state_dict(), model_path)\n",
    "print(f\"✅ Model saved at: {model_path}\")"
   ]
  },
  {
   "cell_type": "code",
   "execution_count": null,
   "id": "c1d7c8b3",
   "metadata": {},
   "outputs": [],
   "source": [
    "# ✅ 10. Prediction Function\n",
    "def load_model(model_path, num_classes):\n",
    "    model = models.resnet50(pretrained=False)\n",
    "    model.fc = nn.Linear(model.fc.in_features, num_classes)\n",
    "    model.load_state_dict(torch.load(model_path, map_location=torch.device(\"cpu\")))\n",
    "    model.eval()\n",
    "    return model"
   ]
  },
  {
   "cell_type": "code",
   "execution_count": null,
   "id": "ef2fe583",
   "metadata": {},
   "outputs": [],
   "source": [
    "def predict_sample(image_path, model, class_names, threshold=0.3):\n",
    "    image = Image.open(image_path).convert(\"RGB\")\n",
    "    transform = transforms.Compose([\n",
    "        transforms.Resize((224, 224)),\n",
    "        transforms.ToTensor(),\n",
    "        transforms.Normalize([0.485, 0.456, 0.406],\n",
    "                             [0.229, 0.224, 0.225])\n",
    "    ])\n",
    "    image_tensor = transform(image).unsqueeze(0)\n",
    "    with torch.no_grad():\n",
    "        output = model(image_tensor)\n",
    "        probs = torch.sigmoid(output[0])\n",
    "    predicted_indices = (probs > threshold).nonzero(as_tuple=True)[0]\n",
    "    predicted_labels = [class_names[i] for i in predicted_indices]\n",
    "    confidences = [probs[i].item() for i in predicted_indices]\n",
    "    plt.imshow(image)\n",
    "    plt.title(\"Predicted: \" + ', '.join([f\"{l} ({c:.2f})\" for l, c in zip(predicted_labels, confidences)]))\n",
    "    plt.axis('off')\n",
    "    plt.show()\n",
    "    print(\"🔍 Predicted Breeds:\")\n",
    "    for label, conf in zip(predicted_labels, confidences):\n",
    "        print(f\"→ {label}: {conf:.2f}\")"
   ]
  },
  {
   "cell_type": "code",
   "execution_count": null,
   "id": "952e0303",
   "metadata": {},
   "outputs": [],
   "source": [
    "# ✅ 11. Run prediction (예시)\n",
    "# sample_image = \"./dog_training_set/Labradoodle/your_sample.jpg\"\n",
    "# model_loaded = load_model(model_path, num_classes)\n",
    "# predict_sample(sample_image, model_loaded, class_names)"
   ]
  }
 ],
 "metadata": {},
 "nbformat": 4,
 "nbformat_minor": 5
}
