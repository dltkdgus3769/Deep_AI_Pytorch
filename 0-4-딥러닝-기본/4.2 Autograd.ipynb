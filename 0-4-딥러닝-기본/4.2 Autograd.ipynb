{
 "nbformat": 4,
 "nbformat_minor": 0,
 "metadata": {
  "kernelspec": {
   "display_name": "Python 3",
   "language": "python",
   "name": "python3"
  },
  "language_info": {
   "codemirror_mode": {
    "name": "ipython",
    "version": 3
   },
   "file_extension": ".py",
   "mimetype": "text/x-python",
   "name": "python",
   "nbconvert_exporter": "python",
   "pygments_lexer": "ipython3",
   "version": "3.7.4"
  },
  "colab": {
   "name": "4.2 Autograd.ipynb",
   "provenance": [],
   "collapsed_sections": []
  }
 },
 "cells": [
  {
   "cell_type": "markdown",
   "metadata": {
    "id": "0nte_1dbsib0"
   },
   "source": [
    "# 4. 파이토치 기본\n",
    "## 4.2 역전파 - 선형회귀식"
   ]
  },
  {
   "cell_type": "code",
   "metadata": {
    "id": "CvAd2lVksg6h",
    "executionInfo": {
     "status": "ok",
     "timestamp": 1636291733513,
     "user_tz": -60,
     "elapsed": 26528,
     "user": {
      "displayName": "딥러닝호형",
      "photoUrl": "https://lh3.googleusercontent.com/a-/AOh14GhhDjkGnBZ0JW1k2J6y2lNP9dJeVbQWPuZEpfUc=s64",
      "userId": "11263585794403583722"
     }
    },
    "ExecuteTime": {
     "end_time": "2025-03-17T02:38:47.605474Z",
     "start_time": "2025-03-17T02:38:47.593467Z"
    }
   },
   "source": [
    "import torch\n",
    "from matplotlib import pyplot as plt"
   ],
   "outputs": [],
   "execution_count": 4
  },
  {
   "cell_type": "code",
   "metadata": {
    "id": "RI4IF-36sg6i",
    "executionInfo": {
     "status": "ok",
     "timestamp": 1636291826831,
     "user_tz": -60,
     "elapsed": 234,
     "user": {
      "displayName": "딥러닝호형",
      "photoUrl": "https://lh3.googleusercontent.com/a-/AOh14GhhDjkGnBZ0JW1k2J6y2lNP9dJeVbQWPuZEpfUc=s64",
      "userId": "11263585794403583722"
     }
    },
    "ExecuteTime": {
     "end_time": "2025-03-17T02:38:47.652479Z",
     "start_time": "2025-03-17T02:38:47.625472Z"
    }
   },
   "source": [
    "x = torch.FloatTensor(range(5)).unsqueeze(1)\n",
    "y = 2*x + torch.rand(5,1)\n",
    "print(x)\n",
    "print(y)\n",
    "num_features = x.shape[1]\n",
    "print(num_features)"
   ],
   "outputs": [
    {
     "name": "stdout",
     "output_type": "stream",
     "text": [
      "tensor([[0.],\n",
      "        [1.],\n",
      "        [2.],\n",
      "        [3.],\n",
      "        [4.]])\n",
      "tensor([[0.4881],\n",
      "        [2.7629],\n",
      "        [4.4112],\n",
      "        [6.5297],\n",
      "        [8.7883]])\n",
      "1\n"
     ]
    }
   ],
   "execution_count": 5
  },
  {
   "cell_type": "code",
   "metadata": {
    "id": "zi9Y3morsg6i",
    "colab": {
     "base_uri": "https://localhost:8080/"
    },
    "executionInfo": {
     "status": "ok",
     "timestamp": 1636291889327,
     "user_tz": -60,
     "elapsed": 327,
     "user": {
      "displayName": "딥러닝호형",
      "photoUrl": "https://lh3.googleusercontent.com/a-/AOh14GhhDjkGnBZ0JW1k2J6y2lNP9dJeVbQWPuZEpfUc=s64",
      "userId": "11263585794403583722"
     }
    },
    "outputId": "fc95a5bb-4cd2-4045-f51c-f286312dbc94",
    "ExecuteTime": {
     "end_time": "2025-03-17T02:38:47.684482Z",
     "start_time": "2025-03-17T02:38:47.671473Z"
    }
   },
   "source": [
    "print(x.shape, y.shape)"
   ],
   "outputs": [
    {
     "name": "stdout",
     "output_type": "stream",
     "text": [
      "torch.Size([5, 1]) torch.Size([5, 1])\n"
     ]
    }
   ],
   "execution_count": 6
  },
  {
   "cell_type": "code",
   "metadata": {
    "id": "hSrvaDPUsg6j",
    "executionInfo": {
     "status": "ok",
     "timestamp": 1636291891579,
     "user_tz": -60,
     "elapsed": 238,
     "user": {
      "displayName": "딥러닝호형",
      "photoUrl": "https://lh3.googleusercontent.com/a-/AOh14GhhDjkGnBZ0JW1k2J6y2lNP9dJeVbQWPuZEpfUc=s64",
      "userId": "11263585794403583722"
     }
    },
    "ExecuteTime": {
     "end_time": "2025-03-17T02:38:47.747467Z",
     "start_time": "2025-03-17T02:38:47.724470Z"
    }
   },
   "source": [
    "#dtype = torch.FloatTensor\n",
    "#W = Variable(torch.randn(num_features, 1), requires_grad=True)\n",
    "#b = Variable(torch.randn(1), requires_grad=True)\n",
    "w = torch.randn(num_features, 1, requires_grad=True)\n",
    "b = torch.randn(1, requires_grad=True)"
   ],
   "outputs": [],
   "execution_count": 7
  },
  {
   "cell_type": "code",
   "metadata": {
    "id": "_BWTlUFHsg6j",
    "executionInfo": {
     "status": "ok",
     "timestamp": 1636291898946,
     "user_tz": -60,
     "elapsed": 229,
     "user": {
      "displayName": "딥러닝호형",
      "photoUrl": "https://lh3.googleusercontent.com/a-/AOh14GhhDjkGnBZ0JW1k2J6y2lNP9dJeVbQWPuZEpfUc=s64",
      "userId": "11263585794403583722"
     }
    },
    "ExecuteTime": {
     "end_time": "2025-03-17T02:38:49.819131Z",
     "start_time": "2025-03-17T02:38:47.763467Z"
    }
   },
   "source": [
    "learning_rate = 1e-3\n",
    "optimizer = torch.optim.SGD([w, b], lr=learning_rate)"
   ],
   "outputs": [],
   "execution_count": 8
  },
  {
   "cell_type": "code",
   "metadata": {
    "id": "_mXmgxBAsg6k",
    "colab": {
     "base_uri": "https://localhost:8080/"
    },
    "executionInfo": {
     "status": "ok",
     "timestamp": 1636291904070,
     "user_tz": -60,
     "elapsed": 265,
     "user": {
      "displayName": "딥러닝호형",
      "photoUrl": "https://lh3.googleusercontent.com/a-/AOh14GhhDjkGnBZ0JW1k2J6y2lNP9dJeVbQWPuZEpfUc=s64",
      "userId": "11263585794403583722"
     }
    },
    "outputId": "f5cf68bf-3ae8-4b0b-be9a-2388801dabaa",
    "ExecuteTime": {
     "end_time": "2025-03-17T02:38:49.849319Z",
     "start_time": "2025-03-17T02:38:49.836317Z"
    }
   },
   "source": [
    "print(w.shape, b.shape)"
   ],
   "outputs": [
    {
     "name": "stdout",
     "output_type": "stream",
     "text": [
      "torch.Size([1, 1]) torch.Size([1])\n"
     ]
    }
   ],
   "execution_count": 9
  },
  {
   "cell_type": "code",
   "metadata": {
    "id": "hRqUbCoZsg6k",
    "colab": {
     "base_uri": "https://localhost:8080/"
    },
    "executionInfo": {
     "status": "ok",
     "timestamp": 1636292005245,
     "user_tz": -60,
     "elapsed": 574,
     "user": {
      "displayName": "딥러닝호형",
      "photoUrl": "https://lh3.googleusercontent.com/a-/AOh14GhhDjkGnBZ0JW1k2J6y2lNP9dJeVbQWPuZEpfUc=s64",
      "userId": "11263585794403583722"
     }
    },
    "outputId": "3d4729ea-fa64-4da9-dfae-e4ba57541109",
    "ExecuteTime": {
     "end_time": "2025-03-17T02:38:50.229672Z",
     "start_time": "2025-03-17T02:38:49.874323Z"
    }
   },
   "source": [
    "loss_stack = []\n",
    "for epoch in range(1001):\n",
    "    \n",
    "    optimizer.zero_grad()\n",
    "    \n",
    "    y_hat = torch.matmul(x, w) + b\n",
    "    loss = torch.mean((y_hat-y)**2)\n",
    "    \n",
    "    loss.backward()\n",
    "    optimizer.step() \n",
    "    loss_stack.append(loss.item())\n",
    "    \n",
    "    if epoch % 100 == 0:\n",
    "        print(f'Epoch {epoch}:{loss.item()}')"
   ],
   "outputs": [
    {
     "name": "stdout",
     "output_type": "stream",
     "text": [
      "Epoch 0:8.718803405761719\n",
      "Epoch 100:0.6958594918251038\n",
      "Epoch 200:0.1458432823419571\n",
      "Epoch 300:0.09981926530599594\n",
      "Epoch 400:0.08872343599796295\n",
      "Epoch 500:0.08087816834449768\n",
      "Epoch 600:0.07405067980289459\n",
      "Epoch 700:0.06800073385238647\n",
      "Epoch 800:0.0626322478055954\n",
      "Epoch 900:0.057868242263793945\n",
      "Epoch 1000:0.05364035815000534\n"
     ]
    }
   ],
   "execution_count": 10
  },
  {
   "cell_type": "code",
   "metadata": {
    "id": "pPdXk7Atsg6l",
    "executionInfo": {
     "status": "ok",
     "timestamp": 1636292020368,
     "user_tz": -60,
     "elapsed": 210,
     "user": {
      "displayName": "딥러닝호형",
      "photoUrl": "https://lh3.googleusercontent.com/a-/AOh14GhhDjkGnBZ0JW1k2J6y2lNP9dJeVbQWPuZEpfUc=s64",
      "userId": "11263585794403583722"
     }
    },
    "ExecuteTime": {
     "end_time": "2025-03-17T02:38:50.277710Z",
     "start_time": "2025-03-17T02:38:50.256653Z"
    }
   },
   "source": [
    "with torch.no_grad():\n",
    "    y_hat = torch.matmul(x, w) + b"
   ],
   "outputs": [],
   "execution_count": 11
  },
  {
   "cell_type": "code",
   "metadata": {
    "id": "gJXgNOrZsg6l",
    "colab": {
     "base_uri": "https://localhost:8080/",
     "height": 336
    },
    "executionInfo": {
     "status": "ok",
     "timestamp": 1636292026587,
     "user_tz": -60,
     "elapsed": 697,
     "user": {
      "displayName": "딥러닝호형",
      "photoUrl": "https://lh3.googleusercontent.com/a-/AOh14GhhDjkGnBZ0JW1k2J6y2lNP9dJeVbQWPuZEpfUc=s64",
      "userId": "11263585794403583722"
     }
    },
    "outputId": "7acf7776-5bc8-406f-c221-e224015cdc50",
    "jupyter": {
     "is_executing": true
    },
    "ExecuteTime": {
     "start_time": "2025-03-17T02:38:50.327268Z"
    }
   },
   "source": [
    "plt.figure(figsize=(10, 5))\n",
    "plt.subplot(121)\n",
    "plt.plot(loss_stack)\n",
    "plt.title(\"Loss\")\n",
    "plt.subplot(122)\n",
    "plt.plot(x, y,'.b')\n",
    "plt.plot(x, y_hat, 'r-')\n",
    "plt.legend(['ground truth','prediction'])\n",
    "plt.title(\"Prediction\")\n",
    "plt.show()"
   ],
   "outputs": [],
   "execution_count": null
  },
  {
   "cell_type": "code",
   "metadata": {
    "id": "LDV0hvfWsg6m"
   },
   "source": [
    ""
   ],
   "execution_count": null,
   "outputs": []
  }
 ]
}
